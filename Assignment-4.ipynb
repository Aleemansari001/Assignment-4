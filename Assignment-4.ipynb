{
 "cells": [
  {
   "cell_type": "markdown",
   "id": "333cc9c4-7d19-44a8-bcc4-43d21d3ed6a4",
   "metadata": {},
   "source": [
    "Q.1"
   ]
  },
  {
   "cell_type": "code",
   "execution_count": 1,
   "id": "09339120-52c3-4f28-8e43-f2ea00be51e9",
   "metadata": {},
   "outputs": [],
   "source": [
    "data = [('Sachin Tendulkar', 34357), ('Ricky Ponting', 27483), ('Jack Kallis', 25534), ('Virat Kohli', 24936)]"
   ]
  },
  {
   "cell_type": "code",
   "execution_count": 2,
   "id": "f19d6e5d-fd62-48f3-96e3-ea1144ac7b50",
   "metadata": {},
   "outputs": [
    {
     "name": "stdout",
     "output_type": "stream",
     "text": [
      "sorted list of tuples based on Integer value : \n",
      "('Virat Kohli', 24936)\n",
      "('Jack Kallis', 25534)\n",
      "('Ricky Ponting', 27483)\n",
      "('Sachin Tendulkar', 34357)\n"
     ]
    }
   ],
   "source": [
    "sorted_data = sorted(data , key = lambda x : x[1])\n",
    "print(\"sorted list of tuples based on Integer value : \")\n",
    "for item in sorted_data :\n",
    "    print (item)"
   ]
  },
  {
   "cell_type": "markdown",
   "id": "ffdf710d-7a5a-4474-a092-e27d487a4f59",
   "metadata": {},
   "source": [
    "Q.2"
   ]
  },
  {
   "cell_type": "code",
   "execution_count": 3,
   "id": "f4b81128-3a8f-4447-b872-6bda831745a6",
   "metadata": {},
   "outputs": [
    {
     "data": {
      "text/plain": [
       "[1, 4, 9, 16, 25, 36, 49, 64, 81, 100]"
      ]
     },
     "execution_count": 3,
     "metadata": {},
     "output_type": "execute_result"
    }
   ],
   "source": [
    "l = [1,2,3,4,5,6,7,8,9,10]\n",
    "list(map(lambda s : s**2, l))"
   ]
  },
  {
   "cell_type": "markdown",
   "id": "1f5a359e-4294-4819-8e3d-efab537fd4ae",
   "metadata": {},
   "source": [
    "Q.3"
   ]
  },
  {
   "cell_type": "code",
   "execution_count": 4,
   "id": "7c1f262d-879a-4ac6-ad5a-ba5d653d1b7e",
   "metadata": {},
   "outputs": [
    {
     "name": "stdout",
     "output_type": "stream",
     "text": [
      "('1', '2', '3', '4', '5', '6', '7', '8', '9', '10')\n"
     ]
    }
   ],
   "source": [
    "l = [1,2,3,4,5,6,7,8,9,10]\n",
    "l = tuple(l)\n",
    "a = tuple(map(str, l))\n",
    "print(a)"
   ]
  },
  {
   "cell_type": "markdown",
   "id": "6ccd28f0-1d04-4ff1-9f59-1af044ec6e07",
   "metadata": {},
   "source": [
    "Q.4"
   ]
  },
  {
   "cell_type": "code",
   "execution_count": 5,
   "id": "0b815545-c967-4fea-ba24-1610f1b1d80f",
   "metadata": {},
   "outputs": [],
   "source": [
    "from functools import reduce"
   ]
  },
  {
   "cell_type": "code",
   "execution_count": 6,
   "id": "c8a28015-62c9-41e0-8ec7-a42e7e010bfc",
   "metadata": {},
   "outputs": [
    {
     "data": {
      "text/plain": [
       "325"
      ]
     },
     "execution_count": 6,
     "metadata": {},
     "output_type": "execute_result"
    }
   ],
   "source": [
    "l = [li for li in range(26)]\n",
    "reduce(lambda x,y: x+y, l)"
   ]
  },
  {
   "cell_type": "markdown",
   "id": "a245e15e-0f5a-4508-b345-dbbba4ff80d7",
   "metadata": {},
   "source": [
    "Q.5"
   ]
  },
  {
   "cell_type": "code",
   "execution_count": null,
   "id": "fcee0668-927a-4ea2-afd3-19287290f7fb",
   "metadata": {},
   "outputs": [],
   "source": [
    "l = [2, 3, 6, 9, 27, 60, 90, 120, 55, 46]"
   ]
  },
  {
   "cell_type": "code",
   "execution_count": 9,
   "id": "780c4bb6-9363-4d7c-bbb6-cd7b3034510d",
   "metadata": {},
   "outputs": [
    {
     "data": {
      "text/plain": [
       "[2, 6, 60, 90, 120, 46]"
      ]
     },
     "execution_count": 9,
     "metadata": {},
     "output_type": "execute_result"
    }
   ],
   "source": [
    "list(filter(lambda x:x % 2 == 0,l))"
   ]
  },
  {
   "cell_type": "code",
   "execution_count": 8,
   "id": "d7c4f851-2915-4f98-bfda-7ae5b4a350e9",
   "metadata": {},
   "outputs": [
    {
     "data": {
      "text/plain": [
       "[3, 6, 9, 27, 60, 90, 120]"
      ]
     },
     "execution_count": 8,
     "metadata": {},
     "output_type": "execute_result"
    }
   ],
   "source": [
    "list(filter(lambda x:x % 3 == 0,l))"
   ]
  },
  {
   "cell_type": "raw",
   "id": "afe76ac7-6da3-49c1-b9f1-ce821595c3cd",
   "metadata": {},
   "source": [
    "Q.6"
   ]
  },
  {
   "cell_type": "code",
   "execution_count": 10,
   "id": "75712d91-caf5-444e-82f4-d9ac800d74ee",
   "metadata": {},
   "outputs": [
    {
     "name": "stdout",
     "output_type": "stream",
     "text": [
      "palindromes: ['php', 'aba', 'radar', 'level']\n"
     ]
    }
   ],
   "source": [
    "Words = ['python', 'php', 'aba', 'radar', 'level']\n",
    "palindromes = list(filter(lambda word : word == word[::-1],Words))\n",
    "print (\"palindromes:\",palindromes)"
   ]
  },
  {
   "cell_type": "code",
   "execution_count": null,
   "id": "24b41bdf-a129-422f-aaae-bec26df720ae",
   "metadata": {},
   "outputs": [],
   "source": []
  }
 ],
 "metadata": {
  "kernelspec": {
   "display_name": "Python 3 (ipykernel)",
   "language": "python",
   "name": "python3"
  },
  "language_info": {
   "codemirror_mode": {
    "name": "ipython",
    "version": 3
   },
   "file_extension": ".py",
   "mimetype": "text/x-python",
   "name": "python",
   "nbconvert_exporter": "python",
   "pygments_lexer": "ipython3",
   "version": "3.10.8"
  }
 },
 "nbformat": 4,
 "nbformat_minor": 5
}
